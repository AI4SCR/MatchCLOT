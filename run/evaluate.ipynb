{
 "cells": [
  {
   "cell_type": "code",
   "execution_count": 13,
   "metadata": {},
   "outputs": [
    {
     "name": "stderr",
     "output_type": "stream",
     "text": [
      "UsageError: Line magic function `%autoreload` not found.\n"
     ]
    }
   ],
   "source": [
    "%autoreload 2"
   ]
  },
  {
   "cell_type": "code",
   "execution_count": 14,
   "metadata": {},
   "outputs": [
    {
     "data": {
      "text/plain": "'/home/ico/PycharmProjects/SCOOTR/run'"
     },
     "execution_count": 14,
     "metadata": {},
     "output_type": "execute_result"
    }
   ],
   "source": [
    "import os\n",
    "import anndata as ad\n",
    "import torch\n",
    "import numpy as np\n",
    "\n",
    "os.environ[\"CUDA_LAUNCH_BLOCKING\"] = \"1\"\n",
    "\n",
    "os.chdir(\"/home/ico/PycharmProjects/SCOOTR/run\")\n",
    "os.getcwd()"
   ]
  },
  {
   "cell_type": "code",
   "execution_count": 23,
   "metadata": {},
   "outputs": [],
   "source": [
    "USE_ADT2GEX = False\n",
    "if USE_ADT2GEX:\n",
    "    #adt2gex\n",
    "    test_path = \"../datasets/openproblems_bmmc_cite_phase2_rna/openproblems_bmmc_cite_phase2_rna.censor_dataset.output_\"\n",
    "else:\n",
    "    #atac2gex\n",
    "    test_path = \"../datasets/openproblems_bmmc_multiome_phase2_rna/openproblems_bmmc_multiome_phase2_rna.censor_dataset.output_\"\n",
    "\n",
    "prediction_path = \"../pretrain/defaultGEX2ATAC.h5ad\"\n",
    "\n",
    "par = {\n",
    "    \"input_test_prediction\": prediction_path,\n",
    "    \"input_test_sol\": f\"{test_path}test_sol.h5ad\",\n",
    "}\n",
    "\n",
    "prediction_test = ad.read_h5ad(par[\"input_test_prediction\"])\n",
    "sol_test = ad.read_h5ad(par[\"input_test_sol\"])"
   ]
  },
  {
   "cell_type": "code",
   "execution_count": 24,
   "metadata": {},
   "outputs": [],
   "source": [
    "if type(prediction_test.X) != np.ndarray:\n",
    "    X = prediction_test.X.toarray()\n",
    "else:\n",
    "    X = prediction_test.X\n",
    "X = torch.tensor(X)\n",
    "\n",
    "Xsol = torch.tensor(sol_test.X.toarray())\n",
    "Xsol.argmax(1)\n",
    "# Order the columns of the prediction matrix so that the perfect prediction is the identity matrix\n",
    "X = X[:, Xsol.argmax(1)]"
   ]
  },
  {
   "cell_type": "code",
   "execution_count": 25,
   "metadata": {},
   "outputs": [
    {
     "name": "stdout",
     "output_type": "stream",
     "text": [
      "0.07756509631872177 0.08036383986473083 top1-acc: 0.0789644680917263\n"
     ]
    }
   ],
   "source": [
    "labels = torch.arange(X.shape[0])\n",
    "forward_accuracy = (torch.argmax(X, dim=1) == labels).float().mean().item()\n",
    "backward_accuracy = (\n",
    "    (torch.argmax(X, dim=0) == labels).float().mean().item()\n",
    ")\n",
    "avg_accuracy = 0.5 * (forward_accuracy + backward_accuracy)\n",
    "print(forward_accuracy, backward_accuracy, \"top1-acc:\", avg_accuracy)"
   ]
  },
  {
   "cell_type": "code",
   "execution_count": 26,
   "metadata": {},
   "outputs": [
    {
     "name": "stdout",
     "output_type": "stream",
     "text": [
      "0.19691139459609985 0.1980108916759491 top5-acc: 0.19746114313602448\n"
     ]
    }
   ],
   "source": [
    "_, top_indexes_forward = X.topk(5, dim=1)\n",
    "_, top_indexes_backward = X.topk(5, dim=0)\n",
    "l_forward = labels.expand(5, X.shape[0]).T\n",
    "l_backward = l_forward.T\n",
    "top5_forward_accuracy = (\n",
    "    torch.any(top_indexes_forward == l_forward, 1).float().mean().item()\n",
    ")\n",
    "top5_backward_accuracy = (\n",
    "    torch.any(top_indexes_backward == l_backward, 0).float().mean().item()\n",
    ")\n",
    "top5_avg_accuracy = 0.5 * (top5_forward_accuracy + top5_backward_accuracy)\n",
    "\n",
    "print(top5_forward_accuracy, top5_backward_accuracy, \"top5-acc:\", top5_avg_accuracy)"
   ]
  },
  {
   "cell_type": "code",
   "execution_count": 7,
   "outputs": [
    {
     "data": {
      "text/plain": "tensor([[ 2102,  9328, 12239,  3118, 14941],\n        [13537,  9475,  3363,  2144, 14055],\n        [13127, 13084, 12243,  9073,  3017],\n        ...,\n        [ 9517,  4774, 12743, 12597,  4924],\n        [15064, 10859, 14854, 13326, 10268],\n        [ 2897,  2844,  3640,  4628,   492]])"
     },
     "execution_count": 7,
     "metadata": {},
     "output_type": "execute_result"
    }
   ],
   "source": [
    "top_indexes_forward"
   ],
   "metadata": {
    "collapsed": false
   }
  },
  {
   "cell_type": "code",
   "execution_count": 8,
   "outputs": [
    {
     "data": {
      "text/plain": "tensor(60259.)"
     },
     "execution_count": 8,
     "metadata": {},
     "output_type": "execute_result"
    }
   ],
   "source": [
    "(top_indexes_forward[:, 1:] != torch.Tensor([1,3,4,0])).float().sum()"
   ],
   "metadata": {
    "collapsed": false
   }
  },
  {
   "cell_type": "code",
   "execution_count": 9,
   "outputs": [
    {
     "data": {
      "text/plain": "tensor(0.1302)"
     },
     "execution_count": 9,
     "metadata": {},
     "output_type": "execute_result"
    }
   ],
   "source": [
    "torch.any(top_indexes_forward == l_forward, 1).float().mean()"
   ],
   "metadata": {
    "collapsed": false
   }
  },
  {
   "cell_type": "markdown",
   "source": [
    "### FOSCTTM"
   ],
   "metadata": {
    "collapsed": false
   }
  },
  {
   "cell_type": "code",
   "execution_count": 27,
   "outputs": [
    {
     "data": {
      "text/plain": "0.00840053241699934"
     },
     "execution_count": 27,
     "metadata": {},
     "output_type": "execute_result"
    }
   ],
   "source": [
    "(X > torch.diag(X)).float().mean().item()\n"
   ],
   "metadata": {
    "collapsed": false
   }
  },
  {
   "cell_type": "code",
   "execution_count": 11,
   "outputs": [
    {
     "name": "stdout",
     "output_type": "stream",
     "text": [
      "foscttm_x tensor([0.0082, 0.0183, 0.0078,  ..., 0.0047, 0.0125, 0.0114]) foscttm_y tensor([0.0056, 0.0033, 0.0011,  ..., 0.0057, 0.0002, 0.0239])\n"
     ]
    }
   ],
   "source": [
    "\n",
    "foscttm_x = (X >= torch.diag(X)).float().mean(axis=1)\n",
    "foscttm_y = (X >= torch.diag(X)).float().mean(axis=0)\n",
    "# foscttm_y = (d < np.expand_dims(np.diag(d), axis=0)).mean(axis=0)\n",
    "print(\"foscttm_x\", foscttm_x, \"foscttm_y\", foscttm_y)"
   ],
   "metadata": {
    "collapsed": false
   }
  },
  {
   "cell_type": "code",
   "execution_count": 12,
   "outputs": [
    {
     "data": {
      "text/plain": "tensor(0.0110)"
     },
     "execution_count": 12,
     "metadata": {},
     "output_type": "execute_result"
    }
   ],
   "source": [
    "foscttm_y.mean()"
   ],
   "metadata": {
    "collapsed": false
   }
  },
  {
   "cell_type": "markdown",
   "source": [
    "### For soft predictions, the competition score can be made equal to the forward accuracy (or backward accuracy) by putting 1 at the max of each row (or each column) and 0 elsewhere"
   ],
   "metadata": {
    "collapsed": false
   }
  },
  {
   "cell_type": "code",
   "execution_count": 20,
   "metadata": {},
   "outputs": [
    {
     "data": {
      "text/plain": "0.05983518436551094"
     },
     "execution_count": 20,
     "metadata": {},
     "output_type": "execute_result"
    }
   ],
   "source": [
    "logits_row_sums = X.clip(min=0).sum(dim=1)\n",
    "top1_competition_metric = X.clip(min=0).diag().div(logits_row_sums).mean().item()\n",
    "top1_competition_metric"
   ]
  },
  {
   "cell_type": "code",
   "execution_count": 22,
   "outputs": [
    {
     "data": {
      "text/plain": "0.10998274385929108"
     },
     "execution_count": 22,
     "metadata": {},
     "output_type": "execute_result"
    }
   ],
   "source": [
    "mx = torch.max(X, dim=1, keepdim=True).values\n",
    "hard_X = (mx == X).float()\n",
    "logits_row_sums = hard_X.clip(min=0).sum(dim=1)\n",
    "top1_competition_metric = hard_X.clip(min=0).diagonal().div(logits_row_sums).mean().item()\n",
    "top1_competition_metric"
   ],
   "metadata": {
    "collapsed": false
   }
  },
  {
   "cell_type": "code",
   "execution_count": 21,
   "outputs": [
    {
     "data": {
      "text/plain": "tensor(3.)"
     },
     "execution_count": 21,
     "metadata": {},
     "output_type": "execute_result"
    }
   ],
   "source": [
    "X.sum()"
   ],
   "metadata": {
    "collapsed": false
   }
  }
 ],
 "metadata": {
  "kernelspec": {
   "display_name": "Python 3 (ipykernel)",
   "language": "python",
   "name": "python3"
  },
  "language_info": {
   "codemirror_mode": {
    "name": "ipython",
    "version": 3
   },
   "file_extension": ".py",
   "mimetype": "text/x-python",
   "name": "python",
   "nbconvert_exporter": "python",
   "pygments_lexer": "ipython3",
   "version": "3.7.13"
  },
  "orig_nbformat": 4,
  "vscode": {
   "interpreter": {
    "hash": "28a8c7923e5120ca4bc6ada9b441fd16ffdb1553ab080deef118f19b45e91ea2"
   }
  }
 },
 "nbformat": 4,
 "nbformat_minor": 2
}
