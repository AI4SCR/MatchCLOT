{
 "cells": [
  {
   "cell_type": "code",
   "execution_count": null,
   "metadata": {
    "pycharm": {
     "is_executing": true
    }
   },
   "outputs": [],
   "source": [
    "%autoreload 2"
   ]
  },
  {
   "cell_type": "code",
   "execution_count": null,
   "metadata": {
    "pycharm": {
     "is_executing": true
    }
   },
   "outputs": [],
   "source": [
    "import os\n",
    "\n",
    "import anndata as ad\n",
    "import torch\n",
    "\n",
    "os.environ[\"CUDA_LAUNCH_BLOCKING\"] = \"1\"\n",
    "# os.chdir(\"SCOOTR/run\")\n",
    "os.getcwd()"
   ]
  },
  {
   "cell_type": "code",
   "execution_count": 111,
   "metadata": {},
   "outputs": [],
   "source": [
    "USE_ADT2GEX = True\n",
    "if USE_ADT2GEX:\n",
    "    #adt2gex\n",
    "    test_path = \"../datasets/phase2-private-data/match_modality/openproblems_bmmc_cite_phase2_rna/openproblems_bmmc_cite_phase2_rna.censor_dataset.output_\"\n",
    "else:\n",
    "    #atac2gex\n",
    "    test_path = \"../datasets/phase2-private-data/match_modality/openproblems_bmmc_multiome_phase2_rna/openproblems_bmmc_multiome_phase2_rna.censor_dataset.output_\"\n",
    "\n",
    "prediction_path = \"GEX2ADTH0.01.h5ad\"\n",
    "\n",
    "par = {\n",
    "    \"input_test_prediction\": prediction_path,\n",
    "    \"input_test_sol\": f\"{test_path}test_sol.h5ad\",\n",
    "}\n",
    "\n",
    "prediction_test = ad.read_h5ad(par[\"input_test_prediction\"])\n",
    "sol_test = ad.read_h5ad(par[\"input_test_sol\"])"
   ]
  },
  {
   "cell_type": "code",
   "execution_count": 112,
   "metadata": {},
   "outputs": [],
   "source": [
    "X = prediction_test.X.toarray()\n",
    "X = torch.tensor(X)\n",
    "X\n",
    "\n",
    "Xsol = torch.tensor(sol_test.X.toarray())\n",
    "Xsol.argmax(1)\n",
    "# Order the columns of the prediction matrix so that the perfect prediction is the identity matrix\n",
    "X = X[:, Xsol.argmax(1)]"
   ]
  },
  {
   "cell_type": "code",
   "execution_count": null,
   "metadata": {
    "pycharm": {
     "is_executing": true
    }
   },
   "outputs": [],
   "source": [
    "labels = torch.arange(X.shape[0])\n",
    "forward_accuracy = (torch.argmax(X, dim=1) == labels).float().mean().item()\n",
    "backward_accuracy = (\n",
    "    (torch.argmax(X, dim=0) == labels).float().mean().item()\n",
    ")\n",
    "avg_accuracy = 0.5 * (forward_accuracy + backward_accuracy)\n",
    "print(forward_accuracy, backward_accuracy, \"top1-acc:\", avg_accuracy)"
   ]
  },
  {
   "cell_type": "code",
   "execution_count": null,
   "metadata": {
    "pycharm": {
     "is_executing": true
    }
   },
   "outputs": [],
   "source": [
    "_, top_indexes_forward = X.topk(5, dim=1)\n",
    "_, top_indexes_backward = X.topk(5, dim=0)\n",
    "l_forward = labels.expand(5, X.shape[0]).T\n",
    "l_backward = l_forward.T\n",
    "top5_forward_accuracy = (\n",
    "    torch.any(top_indexes_forward == l_forward, 1).float().mean().item()\n",
    ")\n",
    "top5_backward_accuracy = (\n",
    "    torch.any(top_indexes_backward == l_backward, 0).float().mean().item()\n",
    ")\n",
    "top5_avg_accuracy = 0.5 * (top5_forward_accuracy + top5_backward_accuracy)\n",
    "\n",
    "print(top5_forward_accuracy, top5_backward_accuracy, \"top5-acc:\", top5_avg_accuracy)"
   ]
  },
  {
   "cell_type": "markdown",
   "source": [
    "### For soft predictions, the competition score can be made equal to the forward accuracy (or backward accuracy) by putting 1 at the max of each row (or each column) and 0 elsewhere"
   ],
   "metadata": {
    "collapsed": false
   }
  },
  {
   "cell_type": "code",
   "execution_count": null,
   "metadata": {
    "pycharm": {
     "is_executing": true
    }
   },
   "outputs": [],
   "source": [
    "logits_row_sums = X.clip(min=0).sum(dim=1)\n",
    "top1_competition_metric = X.clip(min=0).diag().div(logits_row_sums).mean().item()\n",
    "top1_competition_metric"
   ]
  }
 ],
 "metadata": {
  "kernelspec": {
   "display_name": "Python 3 (ipykernel)",
   "language": "python",
   "name": "python3"
  },
  "language_info": {
   "codemirror_mode": {
    "name": "ipython",
    "version": 3
   },
   "file_extension": ".py",
   "mimetype": "text/x-python",
   "name": "python",
   "nbconvert_exporter": "python",
   "pygments_lexer": "ipython3",
   "version": "3.7.13"
  },
  "orig_nbformat": 4,
  "vscode": {
   "interpreter": {
    "hash": "28a8c7923e5120ca4bc6ada9b441fd16ffdb1553ab080deef118f19b45e91ea2"
   }
  }
 },
 "nbformat": 4,
 "nbformat_minor": 2
}
