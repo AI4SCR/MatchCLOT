{
 "cells": [
  {
   "cell_type": "code",
   "execution_count": null,
   "metadata": {
    "pycharm": {
     "name": "#%%\n"
    }
   },
   "outputs": [],
   "source": [
    "import os\n",
    "import anndata as ad\n",
    "import torch\n",
    "import numpy\n",
    "import argparse\n",
    "import pandas as pd\n",
    "import scanpy as sc\n",
    "from tqdm.auto import tqdm\n",
    "\n",
    "os.getcwd()"
   ]
  },
  {
   "cell_type": "code",
   "execution_count": null,
   "metadata": {
    "pycharm": {
     "name": "#%%\n"
    }
   },
   "outputs": [],
   "source": [
    "# TASK = 'GEX2ADT'\n",
    "TASK = 'GEX2ATAC'\n",
    "DATASET_PATH = \"datasets\"\n",
    "PRETRAIN_PATH = \"pretrain\"\n",
    "PREDICTION_PATH = \"pretrain/defaultGEX2ATAC.h5ad\"\n",
    "OUT_NAME = \"\"\n",
    "\n",
    "if TASK == 'GEX2ADT':\n",
    "    is_multiome = False\n",
    "    test_path = os.path.join(DATASET_PATH, \"openproblems_bmmc_cite_phase2_rna/openproblems_bmmc_cite_phase2_rna\"\n",
    "                                                \".censor_dataset.output_\")\n",
    "    completedata_path = os.path.join(DATASET_PATH, \"post_competition/openproblems_bmmc_cite_complete.h5ad\")\n",
    "    pretrain_path = os.path.join(PRETRAIN_PATH, \"GEX2ADT\")\n",
    "elif TASK == 'GEX2ATAC':\n",
    "    is_multiome = True\n",
    "    test_path = os.path.join(DATASET_PATH, \"openproblems_bmmc_multiome_phase2_rna\"\n",
    "                                                \"/openproblems_bmmc_multiome_phase2_rna.censor_dataset.output_\")\n",
    "    completedata_path = os.path.join(DATASET_PATH, \"post_competition/openproblems_bmmc_multiome_complete.h5ad\")\n",
    "    pretrain_path = os.path.join(PRETRAIN_PATH, \"GEX2ATAC\")\n",
    "else:\n",
    "    raise ValueError('Unknown task: ' + TASK)\n",
    "\n",
    "par = {\n",
    "        \"input_train_mod1\": f\"{test_path}train_mod1.h5ad\",\n",
    "        \"input_train_mod2\": f\"{test_path}train_mod2.h5ad\",\n",
    "        \"input_test_mod1\": f\"{test_path}test_mod1.h5ad\",\n",
    "        \"input_test_mod2\": f\"{test_path}test_mod2.h5ad\",\n",
    "        \"input_complete\": completedata_path,\n",
    "        \"input_test_sol\": f\"{test_path}test_sol.h5ad\",\n",
    "        \"input_test_prediction\": PREDICTION_PATH,\n",
    "        \"input_pretrain\": pretrain_path,\n",
    "        \"output\": os.path.join(PRETRAIN_PATH, OUT_NAME + TASK)\n",
    "}"
   ]
  },
  {
   "cell_type": "code",
   "execution_count": null,
   "metadata": {
    "pycharm": {
     "name": "#%%\n"
    }
   },
   "outputs": [],
   "source": [
    "sc.pp.neighbors(input_train_mod1)\n",
    "sc.tl.umap(input_train_mod1)"
   ]
  },
  {
   "cell_type": "code",
   "execution_count": null,
   "metadata": {
    "pycharm": {
     "name": "#%%\n"
    }
   },
   "outputs": [],
   "source": [
    "# sc.pl.umap(input_train_mod1, color='cell_type')\n",
    "sc.pl.umap(input_train_mod1, color='batch')"
   ]
  },
  {
   "cell_type": "code",
   "execution_count": null,
   "metadata": {
    "pycharm": {
     "name": "#%%\n"
    }
   },
   "outputs": [],
   "source": [
    "input_complete = ad.read_h5ad(par[\"input_complete\"])"
   ]
  },
  {
   "cell_type": "code",
   "execution_count": null,
   "metadata": {
    "pycharm": {
     "name": "#%%\n"
    }
   },
   "outputs": [],
   "source": [
    "input_complete"
   ]
  },
  {
   "cell_type": "code",
   "execution_count": null,
   "metadata": {
    "pycharm": {
     "name": "#%%\n"
    }
   },
   "outputs": [],
   "source": [
    "input_atac_umap = input_complete.copy()\n",
    "input_atac_umap.obsm[\"umap\"] = input_complete.obsm[\"ATAC_umap\"]"
   ]
  },
  {
   "cell_type": "code",
   "execution_count": null,
   "metadata": {
    "pycharm": {
     "name": "#%%\n"
    }
   },
   "outputs": [],
   "source": [
    "sc.pl.umap(input_atac_umap, color='cell_type')\n",
    "sc.pl.umap(input_atac_umap, color='batch')"
   ]
  },
  {
   "cell_type": "code",
   "execution_count": null,
   "metadata": {
    "pycharm": {
     "name": "#%%\n"
    }
   },
   "outputs": [],
   "source": [
    "input_gex_umap = input_complete.copy()\n",
    "input_gex_umap.obsm[\"X_umap\"] = input_complete.obsm[\"GEX_X_umap\"]"
   ]
  },
  {
   "cell_type": "code",
   "execution_count": null,
   "metadata": {
    "pycharm": {
     "name": "#%%\n"
    }
   },
   "outputs": [],
   "source": [
    "sc.pl.umap(input_gex_umap, color='cell_type')\n",
    "sc.pl.umap(input_gex_umap, color='batch')"
   ]
  },
  {
   "cell_type": "code",
   "execution_count": null,
   "metadata": {
    "pycharm": {
     "name": "#%%\n"
    }
   },
   "outputs": [],
   "source": [
    "input_atac_umap.obsm[\"umap\"]"
   ]
  },
  {
   "cell_type": "code",
   "execution_count": null,
   "metadata": {
    "pycharm": {
     "name": "#%%\n"
    }
   },
   "outputs": [],
   "source": [
    "input_gex_umap.obsm[\"X_umap\"]"
   ]
  },
  {
   "cell_type": "markdown",
   "metadata": {
    "pycharm": {
     "name": "#%% md\n"
    }
   },
   "source": [
    "# UMAP on train data"
   ]
  },
  {
   "cell_type": "code",
   "execution_count": null,
   "metadata": {
    "pycharm": {
     "name": "#%%\n"
    }
   },
   "outputs": [],
   "source": [
    "import argparse\n",
    "import os\n",
    "import pickle\n",
    "import sys\n",
    "\n",
    "import anndata as ad\n",
    "import numpy as np\n",
    "import pandas as pd\n",
    "import scipy.sparse\n",
    "import torch\n",
    "from distutils.util import strtobool\n",
    "\n",
    "sys.path.append(\".\")\n",
    "from resources.data import ModalityMatchingDataset\n",
    "from resources.models import Modality_CLIP, Encoder\n",
    "from resources.postprocessing import OT_matching, MWB_matching\n",
    "from resources.hyperparameters import *\n",
    "from resources.preprocessing import harmony\n",
    "from evaluate import evaluate"
   ]
  },
  {
   "cell_type": "code",
   "execution_count": null,
   "metadata": {
    "pycharm": {
     "name": "#%%\n"
    }
   },
   "outputs": [],
   "source": [
    "# Load data\n",
    "# input_train_mod1 = ad.read_h5ad(par[\"input_train_mod1\"])\n",
    "# input_train_mod2 = ad.read_h5ad(par[\"input_train_mod2\"])\n",
    "input_test_mod1 = ad.read_h5ad(par[\"input_test_mod1\"])\n",
    "input_test_mod2 = ad.read_h5ad(par[\"input_test_mod2\"])\n",
    "input_complete = ad.read_h5ad(par[\"input_complete\"])"
   ]
  },
  {
   "cell_type": "code",
   "execution_count": null,
   "metadata": {
    "pycharm": {
     "name": "#%%\n"
    }
   },
   "outputs": [],
   "source": [
    "input_train_mod2.obs_names"
   ]
  },
  {
   "cell_type": "code",
   "execution_count": null,
   "metadata": {
    "pycharm": {
     "name": "#%%\n"
    }
   },
   "outputs": [],
   "source": [
    "# test_withcelltype = input_complete[input_test_mod1.obs_names]\n",
    "test_withcelltype_mod1 = ad.read_h5ad(\"datasets/PBMC/glue_processed/test_mod1.h5ad\")\n",
    "test_withcelltype_mod2 = ad.read_h5ad(\"datasets/PBMC/glue_processed/test_mod2.h5ad\")"
   ]
  },
  {
   "cell_type": "code",
   "execution_count": null,
   "metadata": {
    "pycharm": {
     "name": "#%%\n"
    }
   },
   "outputs": [],
   "source": [
    "# load hard_x.npy\n",
    "with open(\"run/hard_X.npy\", \"rb\") as f:\n",
    "    hard_X = np.load(f)"
   ]
  },
  {
   "cell_type": "code",
   "execution_count": null,
   "metadata": {
    "pycharm": {
     "name": "#%%\n"
    }
   },
   "outputs": [],
   "source": [
    "mod2_permutation = hard_X.argmax(axis=1)"
   ]
  },
  {
   "cell_type": "code",
   "execution_count": null,
   "metadata": {
    "pycharm": {
     "name": "#%%\n"
    }
   },
   "outputs": [],
   "source": [
    "mod2_permutation"
   ]
  },
  {
   "cell_type": "code",
   "execution_count": null,
   "metadata": {
    "pycharm": {
     "name": "#%%\n"
    }
   },
   "outputs": [],
   "source": [
    "test_withcelltype_mod2.X = test_withcelltype_mod2.X.toarray()[mod2_permutation]"
   ]
  },
  {
   "cell_type": "code",
   "execution_count": null,
   "metadata": {
    "pycharm": {
     "name": "#%%\n"
    }
   },
   "outputs": [],
   "source": [
    "test_withcelltype_mod2.obs_names"
   ]
  },
  {
   "cell_type": "code",
   "execution_count": null,
   "metadata": {
    "pycharm": {
     "name": "#%%\n"
    }
   },
   "outputs": [],
   "source": [
    "test_withcelltype_mod2.X[1].sum() # 15072.235 with no permutation"
   ]
  },
  {
   "cell_type": "code",
   "execution_count": null,
   "metadata": {
    "pycharm": {
     "name": "#%%\n"
    }
   },
   "outputs": [],
   "source": [
    "test_withcelltype_mod2.obs_keys"
   ]
  },
  {
   "cell_type": "code",
   "execution_count": null,
   "metadata": {
    "pycharm": {
     "name": "#%%\n"
    }
   },
   "outputs": [],
   "source": [
    "# concatenate the two modalities along axis 1\n",
    "test_withcelltype = ad.concat([test_withcelltype_mod1, test_withcelltype_mod2], axis=1, keys=['GEX', 'ATAC'], merge='first', uns_merge='first')\n",
    "test_withcelltype"
   ]
  },
  {
   "cell_type": "code",
   "execution_count": null,
   "metadata": {
    "pycharm": {
     "name": "#%%\n"
    }
   },
   "outputs": [],
   "source": [
    "test_withcelltype.obs[\"cell_type\"]"
   ]
  },
  {
   "cell_type": "code",
   "execution_count": null,
   "metadata": {
    "pycharm": {
     "name": "#%%\n"
    }
   },
   "outputs": [],
   "source": [
    "test_withcelltype.var_names"
   ]
  },
  {
   "cell_type": "code",
   "execution_count": null,
   "metadata": {
    "pycharm": {
     "name": "#%%\n"
    }
   },
   "outputs": [],
   "source": [
    "test_withcelltype.obs[\"cell_type\"].to_frame().value_counts()"
   ]
  },
  {
   "cell_type": "code",
   "execution_count": null,
   "metadata": {
    "pycharm": {
     "name": "#%%\n"
    }
   },
   "outputs": [],
   "source": [
    "test_withcelltype.var[\"feature_types\"]"
   ]
  },
  {
   "cell_type": "code",
   "execution_count": null,
   "metadata": {
    "pycharm": {
     "name": "#%%\n"
    }
   },
   "outputs": [],
   "source": [
    "def umap(adata, save_celltype='umap_celltype.pdf', save_batch='umap_batch.pdf'):\n",
    "    sc.pp.neighbors(adata)\n",
    "    sc.tl.umap(adata, random_state=0)\n",
    "    sc.pl.umap(adata, color='cell_type', edges=False, save=save_celltype)\n",
    "    sc.pl.umap(adata, color='batch', edges=False, save=save_batch)"
   ]
  },
  {
   "cell_type": "code",
   "execution_count": null,
   "metadata": {
    "pycharm": {
     "name": "#%%\n"
    }
   },
   "outputs": [],
   "source": [
    "umap(test_withcelltype, save_celltype=\"pbmc_predicted_match.pdf\")"
   ]
  },
  {
   "cell_type": "code",
   "execution_count": null,
   "metadata": {
    "pycharm": {
     "name": "#%%\n"
    }
   },
   "outputs": [],
   "source": [
    "# UMAP of embedding concatenations\n",
    "import torch\n",
    "fold = 0\n",
    "# emb_mod12 = torch.load(\"pretrain/defaultPredictedMatch\" + TASK + \"emb_mod12_\" + str(fold) + \".pt\")\n",
    "emb_mod12 = torch.load(\"pretrain/pbmc1NoEGEX2ATACemb_mod12_fold0_predmatch.pt\")\n",
    "test_withcelltype.obsm[\"X_pca\"] = emb_mod12\n"
   ]
  },
  {
   "cell_type": "code",
   "execution_count": null,
   "metadata": {
    "pycharm": {
     "name": "#%%\n"
    }
   },
   "outputs": [],
   "source": [
    "umap(test_withcelltype, save_batch=\"randmatch_test_atacgex_emb_batch_umap.pdf\", save_celltype=\"pbmc_emb_predmatch_noentropy.pdf\")"
   ]
  },
  {
   "cell_type": "code",
   "execution_count": null,
   "metadata": {
    "pycharm": {
     "name": "#%%\n"
    }
   },
   "outputs": [],
   "source": [
    "# umap of train mod1\n",
    "sc.pp.neighbors(input_train_mod1)\n",
    "sc.tl.umap(input_train_mod1)\n",
    "# sc.pl.umap(input_train_mod1, color='cell_type')\n",
    "sc.pl.umap(input_train_mod1, color='batch')"
   ]
  },
  {
   "cell_type": "code",
   "execution_count": null,
   "metadata": {
    "pycharm": {
     "name": "#%%\n"
    }
   },
   "outputs": [],
   "source": [
    "# umap of train mod2\n",
    "sc.pp.neighbors(input_train_mod2)\n",
    "sc.tl.umap(input_train_mod2)\n",
    "# sc.pl.umap(input_train_mod1, color='cell_type')\n",
    "sc.pl.umap(input_train_mod2, color='batch')"
   ]
  },
  {
   "cell_type": "code",
   "execution_count": null,
   "metadata": {
    "pycharm": {
     "name": "#%%\n"
    }
   },
   "outputs": [],
   "source": [
    "# Load and apply LSI transformation\n",
    "with open(par[\"input_pretrain\"] + \"/lsi_GEX_transformer.pickle\", \"rb\") as f:\n",
    "    lsi_transformer_gex = pickle.load(f)\n",
    "if is_multiome:\n",
    "    with open(par[\"input_pretrain\"] + \"/lsi_ATAC_transformer.pickle\", \"rb\") as f:\n",
    "        lsi_transformer_atac = pickle.load(f)\n",
    "    gex_train = lsi_transformer_gex.transform(input_train_mod1)\n",
    "    gex_test = lsi_transformer_gex.transform(input_test_mod1)\n",
    "    mod2_train = lsi_transformer_atac.transform(input_train_mod2)\n",
    "    mod2_test = lsi_transformer_atac.transform(input_test_mod2)\n",
    "else:\n",
    "    gex_train = lsi_transformer_gex.transform(input_train_mod1)\n",
    "    gex_test = lsi_transformer_gex.transform(input_test_mod1)\n",
    "    mod2_train = input_train_mod2.to_df()\n",
    "    mod2_test = input_test_mod2.to_df()"
   ]
  },
  {
   "cell_type": "code",
   "execution_count": null,
   "metadata": {
    "pycharm": {
     "name": "#%%\n"
    }
   },
   "outputs": [],
   "source": [
    "TASK"
   ]
  },
  {
   "cell_type": "code",
   "execution_count": null,
   "metadata": {
    "pycharm": {
     "name": "#%%\n"
    }
   },
   "outputs": [],
   "source": [
    "device = torch.device('cuda' if torch.cuda.is_available() else 'cpu')\n",
    "print('Using device:', device)\n",
    "\n",
    "# Define argument parsers\n",
    "parser = argparse.ArgumentParser()\n",
    "subparsers = parser.add_subparsers(dest='TASK')\n",
    "\n",
    "# Common args\n",
    "for key, value in defaults_common.items():\n",
    "    parser.add_argument(\"--\" + key, default=value,\n",
    "                        type=(lambda x: bool(strtobool(x))) if type(value) == bool else type(value))\n",
    "\n",
    "# GEX2ADT args\n",
    "parser_GEX2ADT = subparsers.add_parser('GEX2ADT', help='train GEX2ADT model')\n",
    "for key, value in defaults_GEX2ADT.items():\n",
    "    parser_GEX2ADT.add_argument(\"--\" + key, default=value, type=type(value))\n",
    "\n",
    "# GEX2ATAC args\n",
    "parser_GEX2ATAC = subparsers.add_parser('GEX2ATAC', help='train GEX2ATAC model')\n",
    "for key, value in defaults_GEX2ATAC.items():\n",
    "    parser_GEX2ATAC.add_argument(\"--\" + key, default=value, type=type(value))\n",
    "\n",
    "# Parse args\n",
    "args, unknown_args = parser.parse_known_args([TASK])\n",
    "print(\"args:\", args, \"unknown_args:\", unknown_args)"
   ]
  },
  {
   "cell_type": "code",
   "execution_count": null,
   "metadata": {
    "pycharm": {
     "name": "#%%\n"
    }
   },
   "outputs": [],
   "source": [
    "fold = 0\n",
    "weight_file = par[\"input_pretrain\"] + \"/\" + str(fold) + \"/model.best.pth\"\n",
    "if os.path.exists(weight_file):\n",
    "    print(\"Loading weights from \" + weight_file)\n",
    "    weight = torch.load(weight_file, map_location=\"cpu\")\n",
    "\n",
    "    # Define modality encoders\n",
    "    if is_multiome:\n",
    "        model = Modality_CLIP(\n",
    "            Encoder=Encoder,\n",
    "            layers_dims=(\n",
    "                [args.LAYERS_DIM_ATAC],\n",
    "                [args.LAYERS_DIM_GEX0, args.LAYERS_DIM_GEX1],\n",
    "            ),\n",
    "            dropout_rates=(\n",
    "                [args.DROPOUT_RATES_ATAC],\n",
    "                [args.DROPOUT_RATES_GEX0, args.DROPOUT_RATES_GEX1],\n",
    "            ),\n",
    "            dim_mod1=args.N_LSI_COMPONENTS_ATAC,\n",
    "            dim_mod2=args.N_LSI_COMPONENTS_GEX,\n",
    "            output_dim=args.EMBEDDING_DIM,\n",
    "            T=args.LOG_T,\n",
    "            noise_amount=args.SFA_NOISE,\n",
    "        ).to(device)\n",
    "    else:\n",
    "        model = Modality_CLIP(\n",
    "            Encoder=Encoder,\n",
    "            layers_dims=(\n",
    "                [args.LAYERS_DIM_ADT0, args.LAYERS_DIM_ADT1],\n",
    "                [args.LAYERS_DIM_GEX0, args.LAYERS_DIM_GEX1],\n",
    "            ),\n",
    "            dropout_rates=(\n",
    "                [args.DROPOUT_RATES_ADT0, args.DROPOUT_RATES_ADT1],\n",
    "                [args.DROPOUT_RATES_GEX0, args.DROPOUT_RATES_GEX1],\n",
    "            ),\n",
    "            dim_mod1=args.N_LSI_COMPONENTS_ADT,\n",
    "            dim_mod2=args.N_LSI_COMPONENTS_GEX,\n",
    "            output_dim=args.EMBEDDING_DIM,\n",
    "            T=args.LOG_T,\n",
    "            noise_amount=args.SFA_NOISE,\n",
    "        ).to(device)\n",
    "\n",
    "    # Load pretrained weights\n",
    "    model.load_state_dict(weight)\n",
    "\n",
    "    # Load torch datasets\n",
    "    dataset_train = ModalityMatchingDataset(pd.DataFrame(gex_train), pd.DataFrame(mod2_train))\n",
    "    dataset_test = ModalityMatchingDataset(pd.DataFrame(gex_test), pd.DataFrame(mod2_test))\n",
    "    data_train = torch.utils.data.DataLoader(dataset_train, 32, shuffle=False)\n",
    "    data_test = torch.utils.data.DataLoader(dataset_test, 32, shuffle=False)\n",
    "\n",
    "    # Predict on train set\n",
    "    all_emb_mod1_train = []\n",
    "    all_emb_mod2_train = []\n",
    "    indexes = []\n",
    "    model.eval()\n",
    "    for batch in tqdm(data_train):\n",
    "        x1 = batch[\"features_first\"].float()\n",
    "        x2 = batch[\"features_second\"].float()\n",
    "        # The model applies the GEX encoder to the second argument, here x1\n",
    "        logits, features_mod2, features_mod1 = model(\n",
    "            x2.to(device), x1.to(device)\n",
    "        )\n",
    "\n",
    "        all_emb_mod1_train.append(features_mod1.detach().cpu())\n",
    "        all_emb_mod2_train.append(features_mod2.detach().cpu())\n",
    "\n",
    "    all_emb_mod1_train = torch.cat(all_emb_mod1_train)\n",
    "    all_emb_mod2_train = torch.cat(all_emb_mod2_train)\n",
    "\n",
    "    # Predict on test set\n",
    "    all_emb_mod1 = []\n",
    "    all_emb_mod2 = []\n",
    "    indexes = []\n",
    "    model.eval()\n",
    "    for batch in data_test:\n",
    "        x1 = batch[\"features_first\"].float()\n",
    "        x2 = batch[\"features_second\"].float()\n",
    "        # The model applies the GEX encoder to the second argument, here x1\n",
    "        logits, features_mod2, features_mod1 = model(\n",
    "            x2.to(device), x1.to(device)\n",
    "        )\n",
    "\n",
    "        all_emb_mod1.append(features_mod1.detach().cpu())\n",
    "        all_emb_mod2.append(features_mod2.detach().cpu())\n",
    "\n",
    "    all_emb_mod1 = torch.cat(all_emb_mod1)\n",
    "    all_emb_mod2 = torch.cat(all_emb_mod2)\n"
   ]
  },
  {
   "cell_type": "code",
   "execution_count": null,
   "metadata": {
    "pycharm": {
     "name": "#%%\n"
    }
   },
   "outputs": [],
   "source": [
    "# all_emb_mod1_train = torch.cat(all_emb_mod1_train)\n",
    "# all_emb_mod2_train = torch.cat(all_emb_mod2_train)\n",
    "all_emb_mod2_train.shape"
   ]
  },
  {
   "cell_type": "code",
   "execution_count": null,
   "metadata": {
    "pycharm": {
     "name": "#%%\n"
    }
   },
   "outputs": [],
   "source": [
    "all_emb_mod1_train.shape"
   ]
  },
  {
   "cell_type": "code",
   "execution_count": null,
   "metadata": {
    "pycharm": {
     "name": "#%%\n"
    }
   },
   "outputs": [],
   "source": [
    "input_train_mod1"
   ]
  },
  {
   "cell_type": "code",
   "execution_count": null,
   "metadata": {
    "pycharm": {
     "name": "#%%\n"
    }
   },
   "outputs": [],
   "source": [
    "# reload from file to delete umap coordinates\n",
    "input_train_mod1_emb = ad.read_h5ad(par[\"input_train_mod1\"])"
   ]
  },
  {
   "cell_type": "code",
   "execution_count": null,
   "metadata": {
    "pycharm": {
     "name": "#%%\n"
    }
   },
   "outputs": [],
   "source": [
    "input_train_mod1_emb.obsm[\"X_pca\"] = all_emb_mod1_train"
   ]
  },
  {
   "cell_type": "code",
   "execution_count": null,
   "metadata": {
    "pycharm": {
     "name": "#%%\n"
    }
   },
   "outputs": [],
   "source": [
    "# umap of train mod1 embeddings\n",
    "sc.pp.neighbors(input_train_mod1_emb)\n",
    "sc.tl.umap(input_train_mod1_emb)\n",
    "# sc.pl.umap(input_train_mod1, color='cell_type')\n",
    "sc.pl.umap(input_train_mod1_emb, color='batch')"
   ]
  },
  {
   "cell_type": "code",
   "execution_count": null,
   "metadata": {
    "pycharm": {
     "name": "#%%\n"
    }
   },
   "outputs": [],
   "source": [
    "# reload from file to delete umap coordinates\n",
    "input_train_mod2_emb = ad.read_h5ad(par[\"input_train_mod2\"])\n",
    "input_train_mod2_emb.obsm[\"X_pca\"] = all_emb_mod2_train\n",
    "# umap of train mod1 embeddings\n",
    "sc.pp.neighbors(input_train_mod2_emb)\n",
    "sc.tl.umap(input_train_mod2_emb)\n",
    "# sc.pl.umap(input_train_mod1, color='cell_type')\n",
    "sc.pl.umap(input_train_mod2_emb, color='batch')"
   ]
  },
  {
   "cell_type": "code",
   "execution_count": null,
   "metadata": {
    "pycharm": {
     "name": "#%%\n"
    }
   },
   "outputs": [],
   "source": [
    "# reload from file to delete umap coordinates\n",
    "input_train_mod1_emb = ad.read_h5ad(par[\"input_train_mod1\"])\n",
    "input_train_mod2_emb = ad.read_h5ad(par[\"input_train_mod2\"])\n",
    "input_train_mod1_emb.obsm[\"X_pca\"] = all_emb_mod1_train\n",
    "input_train_mod2_emb.obsm[\"X_pca\"] = all_emb_mod2_train\n",
    "# concatenate to have the same umap space\n",
    "input_train_mod1mod2_emb = ad.concat((input_train_mod1_emb, input_train_mod2_emb), join='outer')\n"
   ]
  },
  {
   "cell_type": "code",
   "execution_count": null,
   "metadata": {
    "pycharm": {
     "name": "#%%\n"
    }
   },
   "outputs": [],
   "source": [
    "input_train_mod1mod2_emb.obsm[\"X_pca\"].shape"
   ]
  },
  {
   "cell_type": "code",
   "execution_count": null,
   "metadata": {
    "pycharm": {
     "name": "#%%\n"
    }
   },
   "outputs": [],
   "source": [
    "# umap of train mod1mod2 embeddings\n",
    "sc.pp.neighbors(input_train_mod1mod2_emb)\n",
    "sc.tl.umap(input_train_mod1mod2_emb)\n",
    "# sc.pl.umap(input_train_mod1, color='cell_type')\n",
    "sc.pl.umap(input_train_mod1mod2_emb[:42492], color='batch')\n",
    "sc.pl.umap(input_train_mod1mod2_emb[42492:], color='batch')"
   ]
  },
  {
   "cell_type": "code",
   "execution_count": null,
   "metadata": {
    "pycharm": {
     "name": "#%%\n"
    }
   },
   "outputs": [],
   "source": [
    "sc.pl.umap(input_train_mod1mod2_emb, color='batch')"
   ]
  },
  {
   "cell_type": "code",
   "execution_count": null,
   "metadata": {
    "pycharm": {
     "name": "#%%\n"
    }
   },
   "outputs": [],
   "source": [
    "sc.pl.pca(input_train_mod1mod2_emb, color='batch')"
   ]
  },
  {
   "cell_type": "code",
   "execution_count": null,
   "metadata": {
    "pycharm": {
     "name": "#%%\n"
    }
   },
   "outputs": [],
   "source": [
    "sc.pl.pca(input_train_mod1mod2_emb[:42492], color='batch')\n",
    "sc.pl.pca(input_train_mod1mod2_emb[42492:], color='batch')"
   ]
  }
 ],
 "metadata": {
  "kernelspec": {
   "display_name": "Python 3 (ipykernel)",
   "language": "python",
   "name": "python3"
  },
  "language_info": {
   "codemirror_mode": {
    "name": "ipython",
    "version": 3
   },
   "file_extension": ".py",
   "mimetype": "text/x-python",
   "name": "python",
   "nbconvert_exporter": "python",
   "pygments_lexer": "ipython3",
   "version": "3.8.16"
  }
 },
 "nbformat": 4,
 "nbformat_minor": 1
}
